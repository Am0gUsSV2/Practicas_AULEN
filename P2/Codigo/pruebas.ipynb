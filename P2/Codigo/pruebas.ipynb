{
 "cells": [
  {
   "cell_type": "code",
   "execution_count": 3,
   "metadata": {},
   "outputs": [
    {
     "name": "stdout",
     "output_type": "stream",
     "text": [
      "3\n",
      "2\n",
      "1\n"
     ]
    }
   ],
   "source": [
    "from collections import deque\n",
    "pila = []\n",
    "\n",
    "pila.append(\"1\")\n",
    "pila.append(\"2\")\n",
    "pila.append(\"3\")\n",
    "\n",
    "\n",
    "\n",
    "while pila:\n",
    "    print(pila.pop())"
   ]
  },
  {
   "cell_type": "code",
   "execution_count": null,
   "metadata": {},
   "outputs": [],
   "source": [
    "from src.grammar import ParseTree\n",
    "from typing import Collection\n",
    "\n",
    "children : Collection[ParseTree]\n",
    "for e in next:\n",
    "    stack.appendleft(e)\n",
    "    children.append(ParseTree(e))"
   ]
  },
  {
   "cell_type": "code",
   "execution_count": null,
   "metadata": {},
   "outputs": [],
   "source": [
    "from src.grammar import LL1Table\n",
    "\n",
    "terminals = {\"(\", \")\", \"i\", \"+\", \"*\", \"$\"}\n",
    "non_terminals = {\"E\", \"T\", \"X\", \"Y\"}\n",
    "cells = [('E', '(', 'TX'),\n",
    "            ('E', 'i', 'TX'),\n",
    "            ('T', '(', '(E)'),\n",
    "            ('T', 'i', 'iY'),\n",
    "            ('X', '+', '+E'),\n",
    "            ('X', ')', ''),\n",
    "            ('X', '$', ''),\n",
    "            ('Y', '*', '*T'),\n",
    "            ('Y', '+', ''),\n",
    "            ('Y', ')', ''),\n",
    "            ('Y', '$', '')]\n",
    "table = LL1Table(non_terminals, terminals)\n",
    "for (nt, t, body) in cells:\n",
    "    table.add_cell(nt, t, body)"
   ]
  }
 ],
 "metadata": {
  "kernelspec": {
   "display_name": "base",
   "language": "python",
   "name": "python3"
  },
  "language_info": {
   "codemirror_mode": {
    "name": "ipython",
    "version": 3
   },
   "file_extension": ".py",
   "mimetype": "text/x-python",
   "name": "python",
   "nbconvert_exporter": "python",
   "pygments_lexer": "ipython3",
   "version": "3.12.7"
  }
 },
 "nbformat": 4,
 "nbformat_minor": 2
}
