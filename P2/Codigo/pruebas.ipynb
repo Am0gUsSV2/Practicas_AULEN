{
 "cells": [
  {
   "cell_type": "code",
   "execution_count": 6,
   "metadata": {},
   "outputs": [
    {
     "name": "stdout",
     "output_type": "stream",
     "text": [
      "deque(['3', '2', '1'])\n",
      "3\n"
     ]
    }
   ],
   "source": [
    "from collections import deque\n",
    "pila = deque()\n",
    "\n",
    "pila.appendleft(\"1\")\n",
    "pila.appendleft(\"2\")\n",
    "pila.appendleft(\"3\")\n",
    "\n",
    "\n",
    "\n",
    "print(pila)\n",
    "\n",
    "print(pila.popleft())"
   ]
  }
 ],
 "metadata": {
  "language_info": {
   "name": "python"
  }
 },
 "nbformat": 4,
 "nbformat_minor": 2
}
