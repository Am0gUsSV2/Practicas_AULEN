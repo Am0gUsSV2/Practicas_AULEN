{
 "cells": [
  {
   "cell_type": "code",
   "execution_count": 6,
   "metadata": {},
   "outputs": [
    {
     "name": "stdout",
     "output_type": "stream",
     "text": [
      "deque(['3', '2', '1'])\n",
      "3\n"
     ]
    }
   ],
   "source": [
    "from collections import deque\n",
    "pila = deque()\n",
    "\n",
    "pila.appendleft(\"1\")\n",
    "pila.appendleft(\"2\")\n",
    "pila.appendleft(\"3\")\n",
    "\n",
    "\n",
    "\n",
    "print(pila)\n",
    "\n",
    "print(pila.popleft())"
   ]
  },
  {
   "cell_type": "code",
   "execution_count": null,
   "metadata": {},
   "outputs": [],
   "source": [
    "from src.grammar import ParseTree\n",
    "from typing import Collection\n",
    "\n",
    "children : Collection[ParseTree]\n",
    "for e in next:\n",
    "    stack.appendleft(e)\n",
    "    children.append(ParseTree(e))"
   ]
  },
  {
   "cell_type": "code",
   "execution_count": null,
   "metadata": {},
   "outputs": [],
   "source": [
    "from src.grammar import LL1Table\n",
    "\n",
    "terminals = {\"(\", \")\", \"i\", \"+\", \"*\", \"$\"}\n",
    "non_terminals = {\"E\", \"T\", \"X\", \"Y\"}\n",
    "cells = [('E', '(', 'TX'),\n",
    "            ('E', 'i', 'TX'),\n",
    "            ('T', '(', '(E)'),\n",
    "            ('T', 'i', 'iY'),\n",
    "            ('X', '+', '+E'),\n",
    "            ('X', ')', ''),\n",
    "            ('X', '$', ''),\n",
    "            ('Y', '*', '*T'),\n",
    "            ('Y', '+', ''),\n",
    "            ('Y', ')', ''),\n",
    "            ('Y', '$', '')]\n",
    "table = LL1Table(non_terminals, terminals)\n",
    "for (nt, t, body) in cells:\n",
    "    table.add_cell(nt, t, body)"
   ]
  }
 ],
 "metadata": {
  "language_info": {
   "name": "python"
  }
 },
 "nbformat": 4,
 "nbformat_minor": 2
}
