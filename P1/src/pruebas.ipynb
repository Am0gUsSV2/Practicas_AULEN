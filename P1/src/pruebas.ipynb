{
 "cells": [
  {
   "cell_type": "code",
   "execution_count": null,
   "metadata": {},
   "outputs": [],
   "source": [
    "dict1 = {}\n",
    "dict2 = {}\n",
    "\n",
    "states = [\"a\", \"b\", \"c\"]\n",
    "\n",
    "i = 0\n",
    "#Primera iteracion\n",
    "for state in states:\n",
    "    if i%2:\n",
    "        dict1[state] = 1\n",
    "    else:\n",
    "        dict1[state] = 0\n",
    "    dict2[state] = None\n",
    "    i += 1\n",
    "\n",
    "print(dict1)\n",
    "print(dict2)\n",
    "dict1 = dict2\n",
    "print(dict1)\n",
    "dict2[\"a\"] = 1\n",
    "print(dict1)\n"
   ]
  }
 ],
 "metadata": {
  "kernelspec": {
   "display_name": "base",
   "language": "python",
   "name": "python3"
  },
  "language_info": {
   "codemirror_mode": {
    "name": "ipython",
    "version": 3
   },
   "file_extension": ".py",
   "mimetype": "text/x-python",
   "name": "python",
   "nbconvert_exporter": "python",
   "pygments_lexer": "ipython3",
   "version": "3.12.4"
  }
 },
 "nbformat": 4,
 "nbformat_minor": 2
}
