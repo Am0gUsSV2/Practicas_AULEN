{
 "cells": [
  {
   "cell_type": "code",
   "execution_count": null,
   "metadata": {},
   "outputs": [],
   "source": [
    "import automaton, transitions, state, utils\n",
    "\n",
    "q0 = state.State(\"q0\", False)\n",
    "q1 = state.State(\"q1\", False)\n",
    "q2 = state.State(\"q2\", True)\n",
    "q3 = state.State(\"q3\", False)\n",
    "q4 = state.State(\"q4\", True)\n",
    "q5 = state.State(\"q5\", False)\n",
    "q6 = state.State(\"qcaca\", False)\n",
    "\n",
    "states = {q0, q1, q2, q3, q4, q5, q6}\n",
    "\n",
    "transiciones = transitions.Transitions()\n",
    "transiciones.add_transition(q0, \"0\", q1)\n",
    "transiciones.add_transition(q0, \"1\", q1)\n",
    "transiciones.add_transition(q1, \"0\", q2)\n",
    "transiciones.add_transition(q1, \"1\", q2)\n",
    "transiciones.add_transition(q2, \"0\", q3)\n",
    "transiciones.add_transition(q2, \"1\", q3)\n",
    "transiciones.add_transition(q3, \"0\", q4)\n",
    "transiciones.add_transition(q3, \"1\", q4)\n",
    "transiciones.add_transition(q4, \"0\", q5)\n",
    "transiciones.add_transition(q4, \"1\", q5)\n",
    "transiciones.add_transition(q5, \"0\", q0)\n",
    "transiciones.add_transition(q5, \"1\", q0)\n",
    "transiciones.add_transition(q6, \"0\", q1)\n",
    "transiciones.add_transition(q6, \"1\", q2)\n",
    "symbols = {\"0\",\"1\"}\n",
    "\n",
    "#NOTE test eliminacion de estados inaccesibles\n",
    "a = automaton.FiniteAutomaton(q0, states, symbols, transiciones)\n",
    "with open('automataog.dot', 'w') as fdot:\n",
    "    fdot.write(utils.write_dot(a))\n",
    "\n",
    "a1 = a.to_minimized() #Descomentar return de linea 306 de automaton\n",
    "\n",
    "with open('automataminimized.dot', 'w') as fdot2:\n",
    "    fdot2.write(utils.write_dot(a1))"
   ]
  },
  {
   "cell_type": "code",
   "execution_count": null,
   "metadata": {},
   "outputs": [
    {
     "name": "stdout",
     "output_type": "stream",
     "text": [
      "FiniteAutomaton(initial_state=State('q0', is_final=False), states={State('q1,q3', is_final=True), State('q0', is_final=False), State('q2,q4', is_final=False)}, symbols={'b', 'a'}, transitions=Transitions([\"State('q0', is_final=False):{'b': {State('q1,q3', is_final=True)}, 'a': {State('q1,q3', is_final=True)}}\", \"State('q2,q4', is_final=False):{'b': {State('q2,q4', is_final=False)}, 'a': {State('q1,q3', is_final=True)}}\", \"State('q1,q3', is_final=True):{'b': {State('q1,q3', is_final=True)}, 'a': {State('q2,q4', is_final=False)}}\"]))\n"
     ]
    }
   ],
   "source": [
    "import automaton, transitions, state, utils\n",
    "\n",
    "q0 = state.State(\"q0\", False)\n",
    "q1 = state.State(\"q1\", True)\n",
    "q2 = state.State(\"q2\", False)\n",
    "q3 = state.State(\"q3\", True)\n",
    "q4 = state.State(\"q4\", False)\n",
    "\n",
    "states = {q0, q1, q2, q3, q4}\n",
    "\n",
    "transiciones = transitions.Transitions()\n",
    "transiciones.add_transition(q0, \"a\", q1)\n",
    "transiciones.add_transition(q0, \"b\", q3)\n",
    "transiciones.add_transition(q1, \"a\", q2)\n",
    "transiciones.add_transition(q1, \"b\", q1)\n",
    "transiciones.add_transition(q2, \"a\", q1)\n",
    "transiciones.add_transition(q2, \"b\", q2)\n",
    "transiciones.add_transition(q3, \"a\", q4)\n",
    "transiciones.add_transition(q3, \"b\", q3)\n",
    "transiciones.add_transition(q4, \"a\", q3)\n",
    "transiciones.add_transition(q4, \"b\", q4)\n",
    "symbols = {\"a\",\"b\"}\n",
    "\n",
    "#NOTE test eliminacion de estados inaccesibles\n",
    "a = automaton.FiniteAutomaton(q0, states, symbols, transiciones)\n",
    "with open('automataog.dot', 'w') as fdot:\n",
    "    fdot.write(utils.write_dot(a))\n",
    "\n",
    "a1 = a.to_minimized() #Descomentar return de linea 306 de automaton\n",
    "with open('automataminimized.dot', 'w') as fdot2:\n",
    "    fdot2.write(utils.write_dot(a1))"
   ]
  }
 ],
 "metadata": {
  "kernelspec": {
   "display_name": "base",
   "language": "python",
   "name": "python3"
  },
  "language_info": {
   "codemirror_mode": {
    "name": "ipython",
    "version": 3
   },
   "file_extension": ".py",
   "mimetype": "text/x-python",
   "name": "python",
   "nbconvert_exporter": "python",
   "pygments_lexer": "ipython3",
   "version": "3.12.4"
  }
 },
 "nbformat": 4,
 "nbformat_minor": 2
}
